{
 "cells": [
  {
   "cell_type": "code",
   "execution_count": 1,
   "metadata": {},
   "outputs": [
    {
     "data": {
      "text/plain": [
       "<Context object mapping 10 objects to 11 properties at 0x4da3978>"
      ]
     },
     "execution_count": 1,
     "metadata": {},
     "output_type": "execute_result"
    }
   ],
   "source": [
    "import concepts\n",
    "\n",
    "CONTEXT = '../examples/relations.csv'\n",
    "\n",
    "c = concepts.load_csv(CONTEXT)\n",
    "c"
   ]
  },
  {
   "cell_type": "code",
   "execution_count": 2,
   "metadata": {},
   "outputs": [
    {
     "data": {
      "text/plain": [
       "('irrefl.',\n",
       " 'tolerance',\n",
       " 'equivalence',\n",
       " 'preorder',\n",
       " 'partial order',\n",
       " 'total order',\n",
       " 'strict partial order',\n",
       " 'strict weak order',\n",
       " 'strict total order',\n",
       " 'R = X = {}')"
      ]
     },
     "execution_count": 2,
     "metadata": {},
     "output_type": "execute_result"
    }
   ],
   "source": [
    "c.objects"
   ]
  },
  {
   "cell_type": "code",
   "execution_count": 3,
   "metadata": {},
   "outputs": [
    {
     "data": {
      "text/plain": [
       "('relation',\n",
       " 'transitive',\n",
       " 'symmetric',\n",
       " 'antisymmetric',\n",
       " 'reflexive',\n",
       " 'irreflexive',\n",
       " 'asymmetric',\n",
       " 'neg. trans.',\n",
       " 'connected',\n",
       " 'total',\n",
       " 'trichotomous')"
      ]
     },
     "execution_count": 3,
     "metadata": {},
     "output_type": "execute_result"
    }
   ],
   "source": [
    "c.properties"
   ]
  },
  {
   "cell_type": "code",
   "execution_count": 4,
   "metadata": {},
   "outputs": [
    {
     "data": {
      "text/plain": [
       "[(True, False, False, False, False, True, False, False, False, False, False),\n",
       " (True, False, True, False, True, False, False, False, False, False, False),\n",
       " (True, True, True, False, True, False, False, False, False, False, False),\n",
       " (True, True, False, False, True, False, False, False, False, False, False),\n",
       " (True, True, False, True, True, False, False, False, False, False, False),\n",
       " (True, True, False, True, True, False, False, True, True, True, False),\n",
       " (True, True, False, True, False, True, True, False, False, False, False),\n",
       " (True, True, False, True, False, True, True, True, False, False, False),\n",
       " (True, True, False, True, False, True, True, True, True, False, True),\n",
       " (True, True, True, True, True, True, True, True, True, True, True)]"
      ]
     },
     "execution_count": 4,
     "metadata": {},
     "output_type": "execute_result"
    }
   ],
   "source": [
    "c.bools"
   ]
  },
  {
   "cell_type": "code",
   "execution_count": 5,
   "metadata": {},
   "outputs": [
    {
     "name": "stdout",
     "output_type": "stream",
     "text": [
      "                     relation transitive symmetric antisymmetric reflexive  \\\n",
      "name                                                                         \n",
      "irrefl.                     X        NaN       NaN           NaN       NaN   \n",
      "tolerance                   X        NaN         X           NaN         X   \n",
      "equivalence                 X          X         X           NaN         X   \n",
      "preorder                    X          X       NaN           NaN         X   \n",
      "partial order               X          X       NaN             X         X   \n",
      "total order                 X          X       NaN             X         X   \n",
      "strict partial order        X          X       NaN             X       NaN   \n",
      "strict weak order           X          X       NaN             X       NaN   \n",
      "strict total order          X          X       NaN             X       NaN   \n",
      "R = X = {}                  X          X         X             X         X   \n",
      "\n",
      "                     irreflexive asymmetric neg. trans. connected total  \\\n",
      "name                                                                      \n",
      "irrefl.                        X        NaN         NaN       NaN   NaN   \n",
      "tolerance                    NaN        NaN         NaN       NaN   NaN   \n",
      "equivalence                  NaN        NaN         NaN       NaN   NaN   \n",
      "preorder                     NaN        NaN         NaN       NaN   NaN   \n",
      "partial order                NaN        NaN         NaN       NaN   NaN   \n",
      "total order                  NaN        NaN           X         X     X   \n",
      "strict partial order           X          X         NaN       NaN   NaN   \n",
      "strict weak order              X          X           X       NaN   NaN   \n",
      "strict total order             X          X           X         X   NaN   \n",
      "R = X = {}                     X          X           X         X     X   \n",
      "\n",
      "                     trichotomous  \n",
      "name                               \n",
      "irrefl.                       NaN  \n",
      "tolerance                     NaN  \n",
      "equivalence                   NaN  \n",
      "preorder                      NaN  \n",
      "partial order                 NaN  \n",
      "total order                   NaN  \n",
      "strict partial order          NaN  \n",
      "strict weak order             NaN  \n",
      "strict total order              X  \n",
      "R = X = {}                      X  \n",
      "<class 'pandas.core.frame.DataFrame'>\n",
      "Index: 10 entries, irrefl. to R = X = {}\n",
      "Data columns (total 11 columns):\n",
      "relation         10 non-null object\n",
      "transitive       8 non-null object\n",
      "symmetric        3 non-null object\n",
      "antisymmetric    6 non-null object\n",
      "reflexive        6 non-null object\n",
      "irreflexive      5 non-null object\n",
      "asymmetric       4 non-null object\n",
      "neg. trans.      4 non-null object\n",
      "connected        3 non-null object\n",
      "total            2 non-null object\n",
      "trichotomous     2 non-null object\n",
      "dtypes: object(11)\n",
      "memory usage: 960.0+ bytes\n"
     ]
    }
   ],
   "source": [
    "import pandas as pd\n",
    "\n",
    "df = pd.read_csv(CONTEXT, index_col='name')\n",
    "\n",
    "print(df)\n",
    "df.info()"
   ]
  },
  {
   "cell_type": "code",
   "execution_count": 6,
   "metadata": {},
   "outputs": [
    {
     "data": {
      "text/plain": [
       "['irrefl.',\n",
       " 'tolerance',\n",
       " 'equivalence',\n",
       " 'preorder',\n",
       " 'partial order',\n",
       " 'total order',\n",
       " 'strict partial order',\n",
       " 'strict weak order',\n",
       " 'strict total order',\n",
       " 'R = X = {}']"
      ]
     },
     "execution_count": 6,
     "metadata": {},
     "output_type": "execute_result"
    }
   ],
   "source": [
    "objects = df.index.tolist()\n",
    "\n",
    "objects"
   ]
  },
  {
   "cell_type": "code",
   "execution_count": 7,
   "metadata": {},
   "outputs": [
    {
     "data": {
      "text/plain": [
       "['relation',\n",
       " 'transitive',\n",
       " 'symmetric',\n",
       " 'antisymmetric',\n",
       " 'reflexive',\n",
       " 'irreflexive',\n",
       " 'asymmetric',\n",
       " 'neg. trans.',\n",
       " 'connected',\n",
       " 'total',\n",
       " 'trichotomous']"
      ]
     },
     "execution_count": 7,
     "metadata": {},
     "output_type": "execute_result"
    }
   ],
   "source": [
    "properties = list(df)\n",
    "\n",
    "properties"
   ]
  },
  {
   "cell_type": "code",
   "execution_count": 8,
   "metadata": {},
   "outputs": [
    {
     "data": {
      "text/plain": [
       "[(True, False, False, False, False, True, False, False, False, False, False),\n",
       " (True, False, True, False, True, False, False, False, False, False, False),\n",
       " (True, True, True, False, True, False, False, False, False, False, False),\n",
       " (True, True, False, False, True, False, False, False, False, False, False),\n",
       " (True, True, False, True, True, False, False, False, False, False, False),\n",
       " (True, True, False, True, True, False, False, True, True, True, False),\n",
       " (True, True, False, True, False, True, True, False, False, False, False),\n",
       " (True, True, False, True, False, True, True, True, False, False, False),\n",
       " (True, True, False, True, False, True, True, True, True, False, True),\n",
       " (True, True, True, True, True, True, True, True, True, True, True)]"
      ]
     },
     "execution_count": 8,
     "metadata": {},
     "output_type": "execute_result"
    }
   ],
   "source": [
    "bools = list(df.fillna(False).astype(bool).itertuples(index=False, name=None))\n",
    "\n",
    "bools"
   ]
  },
  {
   "cell_type": "code",
   "execution_count": 9,
   "metadata": {},
   "outputs": [
    {
     "data": {
      "text/plain": [
       "<Context object mapping 10 objects to 11 properties at 0x826c470>"
      ]
     },
     "execution_count": 9,
     "metadata": {},
     "output_type": "execute_result"
    }
   ],
   "source": [
    "c_ = concepts.Context(objects, properties, bools)\n",
    "\n",
    "assert c_ == c\n",
    "c_"
   ]
  }
 ],
 "metadata": {
  "kernelspec": {
   "display_name": "Python 3",
   "language": "python",
   "name": "python3"
  },
  "language_info": {
   "codemirror_mode": {
    "name": "ipython",
    "version": 3
   },
   "file_extension": ".py",
   "mimetype": "text/x-python",
   "name": "python",
   "nbconvert_exporter": "python",
   "pygments_lexer": "ipython3",
   "version": "3.7.2"
  }
 },
 "nbformat": 4,
 "nbformat_minor": 2
}
